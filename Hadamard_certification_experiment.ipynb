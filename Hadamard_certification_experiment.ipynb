{
 "cells": [
  {
   "cell_type": "code",
   "id": "ef1f4c7d",
   "metadata": {
    "ExecuteTime": {
     "end_time": "2025-01-18T01:22:52.260212Z",
     "start_time": "2025-01-18T01:22:51.645194Z"
    }
   },
   "source": [
    "from qiskit_aer import StatevectorSimulator\n",
    "from qiskit_ibm_runtime import QiskitRuntimeService\n",
    "from qiskit import QuantumCircuit\n",
    "import numpy as np\n",
    "from qbench.schemes.postselection import benchmark_certification_using_postselection\n",
    "from qbench.schemes.direct_sum import benchmark_certification_using_direct_sum"
   ],
   "outputs": [],
   "execution_count": 1
  },
  {
   "cell_type": "code",
   "id": "0059be26",
   "metadata": {
    "ExecuteTime": {
     "end_time": "2025-01-18T01:22:52.265254Z",
     "start_time": "2025-01-18T01:22:52.261573Z"
    }
   },
   "source": [
    "### certification experiment for measurement in Hadamard basis using postselection and direct sum ###\n",
    "\n",
    "def state_prep():\n",
    "    circuit = QuantumCircuit(2)\n",
    "    circuit.h(0)\n",
    "    circuit.cx(0,1)\n",
    "    return circuit.to_instruction()\n",
    "    \n",
    "def u_dag():\n",
    "    circuit = QuantumCircuit(1)\n",
    "    circuit.h(0)\n",
    "    return circuit.to_instruction()\n",
    "\n",
    "def v0_dag():\n",
    "    circuit = QuantumCircuit(1)\n",
    "    circuit.ry(2 * np.arcsin(np.sqrt(0.05)), 0)\n",
    "    \n",
    "    return circuit.to_instruction()\n",
    "\n",
    "def v1_dag():\n",
    "    circuit = QuantumCircuit(1)\n",
    "    circuit.ry(2 * np.arcsin(np.sqrt(0.05)), 0)\n",
    "    circuit.x(0)\n",
    "    return circuit.to_instruction()\n",
    "\n",
    "def v0_v1_direct_sum_dag():\n",
    "    circuit = QuantumCircuit(2)\n",
    "    circuit.p(-np.pi, 0)\n",
    "    circuit.ry(-2 * np.arcsin(np.sqrt(0.05)), 0)\n",
    "    circuit.cx(0, 1)\n",
    "    return circuit.to_instruction()"
   ],
   "outputs": [],
   "execution_count": 2
  },
  {
   "cell_type": "code",
   "id": "455e4997",
   "metadata": {
    "ExecuteTime": {
     "end_time": "2025-01-18T01:23:06.439346Z",
     "start_time": "2025-01-18T01:22:52.265956Z"
    }
   },
   "source": [
    "service = QiskitRuntimeService()\n",
    "simulator = service.least_busy(simulator=False,operational=True)"
   ],
   "outputs": [],
   "execution_count": 3
  },
  {
   "cell_type": "code",
   "id": "b7f6030a",
   "metadata": {
    "ExecuteTime": {
     "end_time": "2025-01-18T01:23:12.484705Z",
     "start_time": "2025-01-18T01:23:06.443347Z"
    }
   },
   "source": [
    "postselection_result = benchmark_certification_using_postselection(\n",
    "    backend=simulator,\n",
    "    target=0,\n",
    "    ancilla=1,\n",
    "    state_preparation=state_prep(),\n",
    "    u_dag=u_dag(),\n",
    "    v0_dag=v0_dag(),\n",
    "    v1_dag=v1_dag(),\n",
    "    num_shots_per_measurement=10\n",
    ")\n",
    "\n",
    "postselection_result"
   ],
   "outputs": [
    {
     "ename": "IBMRuntimeError",
     "evalue": "'Failed to run program: \\'403 Client Error: Forbidden for url: https://api.quantum.ibm.com/runtime/jobs. {\"errors\":[{\"message\":\"Job create exceeds open plan job usage limits\",\"code\":4317,\"solution\":\"Please wait until the beginning of next month to submit more jobs when your quota will reset.\",\"more_info\":\"https://docs.quantum-computing.ibm.com/errors\"}]}\\''",
     "output_type": "error",
     "traceback": [
      "\u001B[0;31m---------------------------------------------------------------------------\u001B[0m",
      "\u001B[0;31mIBMRuntimeError\u001B[0m                           Traceback (most recent call last)",
      "Cell \u001B[0;32mIn[4], line 1\u001B[0m\n\u001B[0;32m----> 1\u001B[0m postselection_result \u001B[38;5;241m=\u001B[39m benchmark_certification_using_postselection(\n\u001B[1;32m      2\u001B[0m     backend\u001B[38;5;241m=\u001B[39msimulator,\n\u001B[1;32m      3\u001B[0m     target\u001B[38;5;241m=\u001B[39m\u001B[38;5;241m0\u001B[39m,\n\u001B[1;32m      4\u001B[0m     ancilla\u001B[38;5;241m=\u001B[39m\u001B[38;5;241m1\u001B[39m,\n\u001B[1;32m      5\u001B[0m     state_preparation\u001B[38;5;241m=\u001B[39mstate_prep(),\n\u001B[1;32m      6\u001B[0m     u_dag\u001B[38;5;241m=\u001B[39mu_dag(),\n\u001B[1;32m      7\u001B[0m     v0_dag\u001B[38;5;241m=\u001B[39mv0_dag(),\n\u001B[1;32m      8\u001B[0m     v1_dag\u001B[38;5;241m=\u001B[39mv1_dag(),\n\u001B[1;32m      9\u001B[0m     num_shots_per_measurement\u001B[38;5;241m=\u001B[39m\u001B[38;5;241m10\u001B[39m\n\u001B[1;32m     10\u001B[0m )\n\u001B[1;32m     12\u001B[0m postselection_result\n",
      "File \u001B[0;32m~/PyQBench/qbench/schemes/postselection.py:258\u001B[0m, in \u001B[0;36mbenchmark_certification_using_postselection\u001B[0;34m(backend, target, ancilla, state_preparation, u_dag, v0_dag, v1_dag, num_shots_per_measurement)\u001B[0m\n\u001B[1;32m    248\u001B[0m circuits \u001B[38;5;241m=\u001B[39m assemble_circuits_certification_postselection(\n\u001B[1;32m    249\u001B[0m     state_preparation\u001B[38;5;241m=\u001B[39mstate_preparation,\n\u001B[1;32m    250\u001B[0m     u_dag\u001B[38;5;241m=\u001B[39mu_dag,\n\u001B[0;32m   (...)\u001B[0m\n\u001B[1;32m    254\u001B[0m     ancilla\u001B[38;5;241m=\u001B[39mancilla,\n\u001B[1;32m    255\u001B[0m )\n\u001B[1;32m    257\u001B[0m sampler \u001B[38;5;241m=\u001B[39m SamplerV2(mode\u001B[38;5;241m=\u001B[39mbackend)\n\u001B[0;32m--> 258\u001B[0m counts \u001B[38;5;241m=\u001B[39m {\n\u001B[1;32m    259\u001B[0m     key: sampler\u001B[38;5;241m.\u001B[39mrun([transpile(circuit, backend\u001B[38;5;241m=\u001B[39mbackend)],\n\u001B[1;32m    260\u001B[0m                      shots\u001B[38;5;241m=\u001B[39mnum_shots_per_measurement)\u001B[38;5;241m.\u001B[39mresult()\u001B[38;5;241m.\u001B[39mget_counts()\n\u001B[1;32m    261\u001B[0m     \u001B[38;5;28;01mfor\u001B[39;00m key, circuit \u001B[38;5;129;01min\u001B[39;00m circuits\u001B[38;5;241m.\u001B[39mitems()\n\u001B[1;32m    262\u001B[0m }\n\u001B[1;32m    264\u001B[0m \u001B[38;5;28;01mreturn\u001B[39;00m compute_probabilities_certification_postselection(\n\u001B[1;32m    265\u001B[0m     counts[\u001B[38;5;124m\"\u001B[39m\u001B[38;5;124mu_v0\u001B[39m\u001B[38;5;124m\"\u001B[39m], counts[\u001B[38;5;124m\"\u001B[39m\u001B[38;5;124mu_v1\u001B[39m\u001B[38;5;124m\"\u001B[39m]\n\u001B[1;32m    266\u001B[0m )\n",
      "File \u001B[0;32m~/PyQBench/qbench/schemes/postselection.py:259\u001B[0m, in \u001B[0;36m<dictcomp>\u001B[0;34m(.0)\u001B[0m\n\u001B[1;32m    248\u001B[0m circuits \u001B[38;5;241m=\u001B[39m assemble_circuits_certification_postselection(\n\u001B[1;32m    249\u001B[0m     state_preparation\u001B[38;5;241m=\u001B[39mstate_preparation,\n\u001B[1;32m    250\u001B[0m     u_dag\u001B[38;5;241m=\u001B[39mu_dag,\n\u001B[0;32m   (...)\u001B[0m\n\u001B[1;32m    254\u001B[0m     ancilla\u001B[38;5;241m=\u001B[39mancilla,\n\u001B[1;32m    255\u001B[0m )\n\u001B[1;32m    257\u001B[0m sampler \u001B[38;5;241m=\u001B[39m SamplerV2(mode\u001B[38;5;241m=\u001B[39mbackend)\n\u001B[1;32m    258\u001B[0m counts \u001B[38;5;241m=\u001B[39m {\n\u001B[0;32m--> 259\u001B[0m     key: sampler\u001B[38;5;241m.\u001B[39mrun([transpile(circuit, backend\u001B[38;5;241m=\u001B[39mbackend)],\n\u001B[1;32m    260\u001B[0m                      shots\u001B[38;5;241m=\u001B[39mnum_shots_per_measurement)\u001B[38;5;241m.\u001B[39mresult()\u001B[38;5;241m.\u001B[39mget_counts()\n\u001B[1;32m    261\u001B[0m     \u001B[38;5;28;01mfor\u001B[39;00m key, circuit \u001B[38;5;129;01min\u001B[39;00m circuits\u001B[38;5;241m.\u001B[39mitems()\n\u001B[1;32m    262\u001B[0m }\n\u001B[1;32m    264\u001B[0m \u001B[38;5;28;01mreturn\u001B[39;00m compute_probabilities_certification_postselection(\n\u001B[1;32m    265\u001B[0m     counts[\u001B[38;5;124m\"\u001B[39m\u001B[38;5;124mu_v0\u001B[39m\u001B[38;5;124m\"\u001B[39m], counts[\u001B[38;5;124m\"\u001B[39m\u001B[38;5;124mu_v1\u001B[39m\u001B[38;5;124m\"\u001B[39m]\n\u001B[1;32m    266\u001B[0m )\n",
      "File \u001B[0;32m~/anaconda3/envs/PyQBench/lib/python3.11/site-packages/qiskit_ibm_runtime/sampler.py:110\u001B[0m, in \u001B[0;36mSamplerV2.run\u001B[0;34m(self, pubs, shots)\u001B[0m\n\u001B[1;32m    106\u001B[0m coerced_pubs \u001B[38;5;241m=\u001B[39m [SamplerPub\u001B[38;5;241m.\u001B[39mcoerce(pub, shots) \u001B[38;5;28;01mfor\u001B[39;00m pub \u001B[38;5;129;01min\u001B[39;00m pubs]\n\u001B[1;32m    108\u001B[0m validate_classical_registers(coerced_pubs)\n\u001B[0;32m--> 110\u001B[0m \u001B[38;5;28;01mreturn\u001B[39;00m \u001B[38;5;28mself\u001B[39m\u001B[38;5;241m.\u001B[39m_run(coerced_pubs)\n",
      "File \u001B[0;32m~/anaconda3/envs/PyQBench/lib/python3.11/site-packages/qiskit_ibm_runtime/base_primitive.py:195\u001B[0m, in \u001B[0;36mBasePrimitiveV2._run\u001B[0;34m(self, pubs)\u001B[0m\n\u001B[1;32m    192\u001B[0m         runtime_options[\u001B[38;5;124m\"\u001B[39m\u001B[38;5;124minstance\u001B[39m\u001B[38;5;124m\"\u001B[39m] \u001B[38;5;241m=\u001B[39m \u001B[38;5;28mself\u001B[39m\u001B[38;5;241m.\u001B[39m_backend\u001B[38;5;241m.\u001B[39m_instance\n\u001B[1;32m    194\u001B[0m \u001B[38;5;28;01mif\u001B[39;00m \u001B[38;5;28misinstance\u001B[39m(\u001B[38;5;28mself\u001B[39m\u001B[38;5;241m.\u001B[39m_service, QiskitRuntimeService):\n\u001B[0;32m--> 195\u001B[0m     \u001B[38;5;28;01mreturn\u001B[39;00m \u001B[38;5;28mself\u001B[39m\u001B[38;5;241m.\u001B[39m_service\u001B[38;5;241m.\u001B[39m_run(\n\u001B[1;32m    196\u001B[0m         program_id\u001B[38;5;241m=\u001B[39m\u001B[38;5;28mself\u001B[39m\u001B[38;5;241m.\u001B[39m_program_id(),\n\u001B[1;32m    197\u001B[0m         options\u001B[38;5;241m=\u001B[39mruntime_options,\n\u001B[1;32m    198\u001B[0m         inputs\u001B[38;5;241m=\u001B[39mprimitive_inputs,\n\u001B[1;32m    199\u001B[0m         callback\u001B[38;5;241m=\u001B[39moptions_dict\u001B[38;5;241m.\u001B[39mget(\u001B[38;5;124m\"\u001B[39m\u001B[38;5;124menvironment\u001B[39m\u001B[38;5;124m\"\u001B[39m, {})\u001B[38;5;241m.\u001B[39mget(\u001B[38;5;124m\"\u001B[39m\u001B[38;5;124mcallback\u001B[39m\u001B[38;5;124m\"\u001B[39m, \u001B[38;5;28;01mNone\u001B[39;00m),\n\u001B[1;32m    200\u001B[0m         result_decoder\u001B[38;5;241m=\u001B[39mDEFAULT_DECODERS\u001B[38;5;241m.\u001B[39mget(\u001B[38;5;28mself\u001B[39m\u001B[38;5;241m.\u001B[39m_program_id()),\n\u001B[1;32m    201\u001B[0m     )\n\u001B[1;32m    203\u001B[0m \u001B[38;5;28;01mreturn\u001B[39;00m \u001B[38;5;28mself\u001B[39m\u001B[38;5;241m.\u001B[39m_service\u001B[38;5;241m.\u001B[39m_run(\n\u001B[1;32m    204\u001B[0m     program_id\u001B[38;5;241m=\u001B[39m\u001B[38;5;28mself\u001B[39m\u001B[38;5;241m.\u001B[39m_program_id(),  \u001B[38;5;66;03m# type: ignore[arg-type]\u001B[39;00m\n\u001B[1;32m    205\u001B[0m     options\u001B[38;5;241m=\u001B[39mruntime_options,\n\u001B[1;32m    206\u001B[0m     inputs\u001B[38;5;241m=\u001B[39mprimitive_inputs,\n\u001B[1;32m    207\u001B[0m )\n",
      "File \u001B[0;32m~/anaconda3/envs/PyQBench/lib/python3.11/site-packages/qiskit_ibm_runtime/qiskit_runtime_service.py:868\u001B[0m, in \u001B[0;36mQiskitRuntimeService._run\u001B[0;34m(self, program_id, inputs, options, callback, result_decoder, session_id, start_session)\u001B[0m\n\u001B[1;32m    866\u001B[0m     \u001B[38;5;28;01mif\u001B[39;00m ex\u001B[38;5;241m.\u001B[39mstatus_code \u001B[38;5;241m==\u001B[39m \u001B[38;5;241m404\u001B[39m:\n\u001B[1;32m    867\u001B[0m         \u001B[38;5;28;01mraise\u001B[39;00m RuntimeProgramNotFound(\u001B[38;5;124mf\u001B[39m\u001B[38;5;124m\"\u001B[39m\u001B[38;5;124mProgram not found: \u001B[39m\u001B[38;5;132;01m{\u001B[39;00mex\u001B[38;5;241m.\u001B[39mmessage\u001B[38;5;132;01m}\u001B[39;00m\u001B[38;5;124m\"\u001B[39m) \u001B[38;5;28;01mfrom\u001B[39;00m \u001B[38;5;28;01mNone\u001B[39;00m\n\u001B[0;32m--> 868\u001B[0m     \u001B[38;5;28;01mraise\u001B[39;00m IBMRuntimeError(\u001B[38;5;124mf\u001B[39m\u001B[38;5;124m\"\u001B[39m\u001B[38;5;124mFailed to run program: \u001B[39m\u001B[38;5;132;01m{\u001B[39;00mex\u001B[38;5;132;01m}\u001B[39;00m\u001B[38;5;124m\"\u001B[39m) \u001B[38;5;28;01mfrom\u001B[39;00m \u001B[38;5;28;01mNone\u001B[39;00m\n\u001B[1;32m    870\u001B[0m \u001B[38;5;28;01mif\u001B[39;00m response[\u001B[38;5;124m\"\u001B[39m\u001B[38;5;124mbackend\u001B[39m\u001B[38;5;124m\"\u001B[39m] \u001B[38;5;129;01mand\u001B[39;00m response[\u001B[38;5;124m\"\u001B[39m\u001B[38;5;124mbackend\u001B[39m\u001B[38;5;124m\"\u001B[39m] \u001B[38;5;241m!=\u001B[39m qrt_options\u001B[38;5;241m.\u001B[39mget_backend_name():\n\u001B[1;32m    871\u001B[0m     backend \u001B[38;5;241m=\u001B[39m \u001B[38;5;28mself\u001B[39m\u001B[38;5;241m.\u001B[39mbackend(name\u001B[38;5;241m=\u001B[39mresponse[\u001B[38;5;124m\"\u001B[39m\u001B[38;5;124mbackend\u001B[39m\u001B[38;5;124m\"\u001B[39m], instance\u001B[38;5;241m=\u001B[39mhgp_name)\n",
      "\u001B[0;31mIBMRuntimeError\u001B[0m: 'Failed to run program: \\'403 Client Error: Forbidden for url: https://api.quantum.ibm.com/runtime/jobs. {\"errors\":[{\"message\":\"Job create exceeds open plan job usage limits\",\"code\":4317,\"solution\":\"Please wait until the beginning of next month to submit more jobs when your quota will reset.\",\"more_info\":\"https://docs.quantum-computing.ibm.com/errors\"}]}\\''"
     ]
    }
   ],
   "execution_count": 4
  },
  {
   "cell_type": "code",
   "id": "bfe0ba4b",
   "metadata": {},
   "source": [
    "expected = (1/np.sqrt(2) * np.sqrt(0.95) - 1/np.sqrt(2) * np.sqrt(0.05))**2\n",
    "expected"
   ],
   "outputs": [],
   "execution_count": null
  },
  {
   "cell_type": "code",
   "id": "99acaa62",
   "metadata": {},
   "source": [
    "direct_sum_result = benchmark_certification_using_direct_sum(\n",
    "    backend=simulator,\n",
    "    target=0,\n",
    "    ancilla=1,\n",
    "    state_preparation=state_prep(),\n",
    "    u_dag=u_dag(),\n",
    "    v0_v1_direct_sum_dag=v0_v1_direct_sum_dag(),\n",
    "    num_shots_per_measurement=100000\n",
    ")\n",
    "\n",
    "direct_sum_result"
   ],
   "outputs": [],
   "execution_count": null
  },
  {
   "cell_type": "code",
   "id": "a837c34e-b8d7-4df4-9c58-5ba1cf16f8e7",
   "metadata": {},
   "source": [
    "p_succ = expected\n",
    "print(f\"Analytical p_succ = {p_succ}\")\n",
    "print(\n",
    "f\"Postselection: p_succ = {postselection_result}, abs_error ={np.abs(p_succ - postselection_result)}\"\n",
    ")\n",
    "print(f\"Direct sum: p_succ = {direct_sum_result}, abs_error ={np.abs(p_succ - direct_sum_result)}\")"
   ],
   "outputs": [],
   "execution_count": null
  },
  {
   "cell_type": "code",
   "id": "ce25f7a4-1533-4252-a932-bbafbea78156",
   "metadata": {},
   "source": [
    "from qbench.schemes.postselection import (\n",
    "assemble_circuits_certification_postselection,\n",
    "compute_probabilities_certification_postselection,\n",
    ")\n",
    "circuits = assemble_circuits_certification_postselection(\n",
    "target=0,\n",
    "ancilla=1,\n",
    "state_preparation=state_prep(),\n",
    "u_dag=u_dag(),\n",
    "v0_dag=v0_dag(),\n",
    "v1_dag=v1_dag(),\n",
    ")"
   ],
   "outputs": [],
   "execution_count": null
  },
  {
   "cell_type": "code",
   "id": "9e3f5bba-d2ab-4904-b46b-e6b05bd33b86",
   "metadata": {},
   "source": [
    "from qiskit_aer.noise import NoiseModel, ReadoutError\n",
    "error = ReadoutError([[0.75, 0.25], [0.8, 0.2]])\n",
    "noise_model = NoiseModel()\n",
    "noise_model.add_readout_error(error, [0])\n",
    "noise_model.add_readout_error(error, [1])"
   ],
   "outputs": [],
   "execution_count": null
  },
  {
   "cell_type": "code",
   "id": "1a63f475-b565-4983-a947-62f3858731c8",
   "metadata": {},
   "source": [
    "keys_ordering = [\"u_v0\", \"u_v1\"]\n",
    "\n",
    "all_circuits = [circuits[key] for key in keys_ordering]\n",
    "\n",
    "counts_noisy = simulator.run(\n",
    "    all_circuits,\n",
    "    backend=simulator,\n",
    "    noise_model=noise_model,\n",
    "    shots=100000).result().get_counts()\n",
    "\n",
    "counts_noiseless = simulator.run(\n",
    "    all_circuits,\n",
    "    backend=simulator,\n",
    "    shots=100000).result().get_counts()"
   ],
   "outputs": [],
   "execution_count": null
  },
  {
   "cell_type": "code",
   "id": "d2f9a183-9d6b-4c07-bb5f-f309f7ad7859",
   "metadata": {},
   "source": [
    "prob_succ_noiseless = compute_probabilities_certification_postselection(\n",
    "    u_v0_counts=counts_noiseless[0],\n",
    "    u_v1_counts=counts_noiseless[1],)\n",
    "\n",
    "prob_succ_noisy = compute_probabilities_certification_postselection(\n",
    "    u_v0_counts=counts_noisy[0],\n",
    "    u_v1_counts=counts_noisy[1],)"
   ],
   "outputs": [],
   "execution_count": null
  },
  {
   "cell_type": "code",
   "id": "f949b697-7591-48a9-bcb2-c2c006453064",
   "metadata": {},
   "source": [
    "print(prob_succ_noiseless)"
   ],
   "outputs": [],
   "execution_count": null
  },
  {
   "cell_type": "code",
   "id": "145dba65-0497-4643-8dd0-e3af180921eb",
   "metadata": {},
   "source": [
    "print(prob_succ_noisy)"
   ],
   "outputs": [],
   "execution_count": null
  }
 ],
 "metadata": {
  "kernelspec": {
   "display_name": "Python 3 (ipykernel)",
   "language": "python",
   "name": "python3"
  },
  "language_info": {
   "codemirror_mode": {
    "name": "ipython",
    "version": 3
   },
   "file_extension": ".py",
   "mimetype": "text/x-python",
   "name": "python",
   "nbconvert_exporter": "python",
   "pygments_lexer": "ipython3",
   "version": "3.11.9"
  }
 },
 "nbformat": 4,
 "nbformat_minor": 5
}
