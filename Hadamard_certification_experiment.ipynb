{
 "cells": [
  {
   "cell_type": "code",
   "execution_count": 1,
   "id": "ef1f4c7d",
   "metadata": {
    "ExecuteTime": {
     "end_time": "2024-09-22T16:39:34.836276Z",
     "start_time": "2024-09-22T16:39:34.833290Z"
    }
   },
   "source": [
    "from qiskit_aer import StatevectorSimulator\n",
    "from qiskit import QuantumCircuit\n",
    "import numpy as np\n",
    "from qbench.schemes.postselection import benchmark_certification_using_postselection\n",
    "from qbench.schemes.direct_sum import benchmark_certification_using_direct_sum"
   ],
   "outputs": []
  },
  {
   "cell_type": "code",
   "execution_count": 2,
   "id": "0059be26",
   "metadata": {
    "ExecuteTime": {
     "end_time": "2024-09-22T16:39:34.845959Z",
     "start_time": "2024-09-22T16:39:34.838003Z"
    }
   },
   "source": [
    "### certification experiment for measurement in Hadamard basis using postselection and direct sum ###\n",
    "\n",
    "def state_prep():\n",
    "    circuit = QuantumCircuit(2)\n",
    "    circuit.h(0)\n",
    "    circuit.cx(0,1)\n",
    "    return circuit.to_instruction()\n",
    "    \n",
    "def u_dag():\n",
    "    circuit = QuantumCircuit(1)\n",
    "    circuit.h(0)\n",
    "    return circuit.to_instruction()\n",
    "\n",
    "def v0_dag():\n",
    "    circuit = QuantumCircuit(1)\n",
    "    circuit.ry(2 * np.arcsin(np.sqrt(0.05)), 0)\n",
    "    \n",
    "    return circuit.to_instruction()\n",
    "\n",
    "def v1_dag():\n",
    "    circuit = QuantumCircuit(1)\n",
    "    circuit.ry(2 * np.arcsin(np.sqrt(0.05)), 0)\n",
    "    circuit.x(0)\n",
    "    return circuit.to_instruction()\n",
    "\n",
    "def v0_v1_direct_sum_dag():\n",
    "    circuit = QuantumCircuit(2)\n",
    "    circuit.p(-np.pi, 0)\n",
    "    circuit.ry(-2 * np.arcsin(np.sqrt(0.05)), 0)\n",
    "    circuit.cx(0, 1)\n",
    "    return circuit.to_instruction()"
   ],
   "outputs": []
  },
  {
   "cell_type": "code",
   "execution_count": 3,
   "id": "455e4997",
   "metadata": {
    "ExecuteTime": {
     "end_time": "2024-09-22T16:39:34.852896Z",
     "start_time": "2024-09-22T16:39:34.848146Z"
    }
   },
   "source": [
    "simulator = StatevectorSimulator()"
   ],
   "outputs": []
  },
  {
   "cell_type": "code",
   "execution_count": 4,
   "id": "b7f6030a",
   "metadata": {
    "ExecuteTime": {
     "start_time": "2024-09-22T16:40:29.653283Z"
    },
    "jupyter": {
     "is_executing": true
    }
   },
   "source": [
    "postselection_result = benchmark_certification_using_postselection(\n",
    "    backend=simulator,\n",
    "    target=0,\n",
    "    ancilla=1,\n",
    "    state_preparation=state_prep(),\n",
    "    u_dag=u_dag(),\n",
    "    v0_dag=v0_dag(),\n",
    "    v1_dag=v1_dag(),\n",
    "    num_shots_per_measurement=100000\n",
    ")\n",
    "\n",
    "postselection_result"
   ],
   "outputs": []
  },
  {
   "cell_type": "code",
   "execution_count": 5,
   "id": "bfe0ba4b",
   "metadata": {
    "ExecuteTime": {
     "end_time": "2024-09-22T16:39:34.878072Z",
     "start_time": "2024-09-22T16:39:34.873464Z"
    }
   },
   "source": [
    "expected = (1/np.sqrt(2) * np.sqrt(0.95) - 1/np.sqrt(2) * np.sqrt(0.05))**2\n",
    "expected"
   ],
   "outputs": []
  },
  {
   "cell_type": "code",
   "execution_count": 6,
   "id": "99acaa62",
   "metadata": {
    "ExecuteTime": {
     "end_time": "2024-09-22T16:39:35.252597Z",
     "start_time": "2024-09-22T16:39:34.879277Z"
    }
   },
   "source": [
    "direct_sum_result = benchmark_certification_using_direct_sum(\n",
    "    backend=simulator,\n",
    "    target=0,\n",
    "    ancilla=1,\n",
    "    state_preparation=state_prep(),\n",
    "    u_dag=u_dag(),\n",
    "    v0_v1_direct_sum_dag=v0_v1_direct_sum_dag(),\n",
    "    num_shots_per_measurement=100000\n",
    ")\n",
    "\n",
    "direct_sum_result"
   ],
   "outputs": []
  },
  {
   "cell_type": "code",
   "execution_count": 22,
   "id": "a837c34e-b8d7-4df4-9c58-5ba1cf16f8e7",
   "metadata": {},
   "source": [
    "p_succ = expected\n",
    "print(f\"Analytical p_succ = {p_succ}\")\n",
    "print(\n",
    "f\"Postselection: p_succ = {postselection_result}, abs_error ={np.abs(p_succ - postselection_result)}\"\n",
    ")\n",
    "print(f\"Direct sum: p_succ = {direct_sum_result}, abs_error ={np.abs(p_succ - direct_sum_result)}\")"
   ],
   "outputs": []
  },
  {
   "cell_type": "code",
   "execution_count": 23,
   "id": "ce25f7a4-1533-4252-a932-bbafbea78156",
   "metadata": {},
   "source": [
    "from qbench.schemes.postselection import (\n",
    "assemble_circuits_certification_postselection,\n",
    "compute_probabilities_certification_postselection,\n",
    ")\n",
    "circuits = assemble_circuits_certification_postselection(\n",
    "target=0,\n",
    "ancilla=1,\n",
    "state_preparation=state_prep(),\n",
    "u_dag=u_dag(),\n",
    "v0_dag=v0_dag(),\n",
    "v1_dag=v1_dag(),\n",
    ")"
   ],
   "outputs": []
  },
  {
   "cell_type": "code",
   "execution_count": 24,
   "id": "9e3f5bba-d2ab-4904-b46b-e6b05bd33b86",
   "metadata": {},
   "source": [
    "from qiskit_aer.noise import NoiseModel, ReadoutError\n",
    "error = ReadoutError([[0.75, 0.25], [0.8, 0.2]])\n",
    "noise_model = NoiseModel()\n",
    "noise_model.add_readout_error(error, [0])\n",
    "noise_model.add_readout_error(error, [1])"
   ],
   "outputs": []
  },
  {
   "cell_type": "code",
   "execution_count": 25,
   "id": "1a63f475-b565-4983-a947-62f3858731c8",
   "metadata": {},
   "source": [
    "keys_ordering = [\"u_v0\", \"u_v1\"]\n",
    "\n",
    "all_circuits = [circuits[key] for key in keys_ordering]\n",
    "\n",
    "counts_noisy = simulator.run(\n",
    "    all_circuits,\n",
    "    backend=simulator,\n",
    "    noise_model=noise_model,\n",
    "    shots=100000).result().get_counts()\n",
    "\n",
    "counts_noiseless = simulator.run(\n",
    "    all_circuits,\n",
    "    backend=simulator,\n",
    "    shots=100000).result().get_counts()"
   ],
   "outputs": []
  },
  {
   "cell_type": "code",
   "execution_count": 26,
   "id": "d2f9a183-9d6b-4c07-bb5f-f309f7ad7859",
   "metadata": {},
   "source": [
    "prob_succ_noiseless = compute_probabilities_certification_postselection(\n",
    "    u_v0_counts=counts_noiseless[0],\n",
    "    u_v1_counts=counts_noiseless[1],)\n",
    "\n",
    "prob_succ_noisy = compute_probabilities_certification_postselection(\n",
    "    u_v0_counts=counts_noisy[0],\n",
    "    u_v1_counts=counts_noisy[1],)"
   ],
   "outputs": []
  },
  {
   "cell_type": "code",
   "execution_count": 27,
   "id": "f949b697-7591-48a9-bcb2-c2c006453064",
   "metadata": {},
   "source": [
    "print(prob_succ_noiseless)"
   ],
   "outputs": []
  },
  {
   "cell_type": "code",
   "execution_count": 28,
   "id": "145dba65-0497-4643-8dd0-e3af180921eb",
   "metadata": {},
   "source": [
    "print(prob_succ_noisy)"
   ],
   "outputs": []
  },
  {
   "cell_type": "code",
   "execution_count": null,
   "id": "99b84a73-3c5e-47d3-a8c8-66e27506af21",
   "metadata": {},
   "source": [],
   "outputs": []
  },
  {
   "cell_type": "code",
   "execution_count": null,
   "id": "00bad43b-4726-4276-ab02-ea083425450a",
   "metadata": {},
   "source": [],
   "outputs": []
  },
  {
   "cell_type": "code",
   "execution_count": null,
   "id": "1c53f42c-e759-4a84-9848-8cf7319a6cbe",
   "metadata": {},
   "source": [],
   "outputs": []
  }
 ],
 "metadata": {
  "kernelspec": {
   "display_name": "Python 3 (ipykernel)",
   "language": "python",
   "name": "python3"
  },
  "language_info": {
   "codemirror_mode": {
    "name": "ipython",
    "version": 3
   },
   "file_extension": ".py",
   "mimetype": "text/x-python",
   "name": "python",
   "nbconvert_exporter": "python",
   "pygments_lexer": "ipython3",
   "version": "3.11.9"
  }
 },
 "nbformat": 4,
 "nbformat_minor": 5
}
