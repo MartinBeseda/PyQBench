{
 "cells": [
  {
   "cell_type": "code",
   "execution_count": 8,
   "id": "ef1f4c7d",
   "metadata": {
    "ExecuteTime": {
     "end_time": "2024-09-22T16:39:34.836276Z",
     "start_time": "2024-09-22T16:39:34.833290Z"
    }
   },
   "outputs": [],
   "source": [
    "from qiskit import QuantumCircuit\n",
    "import numpy as np\n",
    "\n",
    "from qbench.schemes.postselection import benchmark_using_postselection, benchmark_certification_using_postselection\n",
    "from qbench.schemes.direct_sum import benchmark_using_direct_sum, benchmark_certification_using_direct_sum"
   ]
  },
  {
   "cell_type": "code",
   "execution_count": 9,
   "id": "0059be26",
   "metadata": {
    "ExecuteTime": {
     "end_time": "2024-09-22T16:39:34.845959Z",
     "start_time": "2024-09-22T16:39:34.838003Z"
    }
   },
   "outputs": [],
   "source": [
    "### certification experiment for measurement in Hadamard basis using postselection ###\n",
    "\n",
    "def state_prep():\n",
    "    circuit = QuantumCircuit(2)\n",
    "    circuit.h(0)\n",
    "    circuit.cx(0, 1)\n",
    "    return circuit.to_instruction()\n",
    "    \n",
    "\n",
    "def u_dag():\n",
    "    circuit = QuantumCircuit(1)\n",
    "    circuit.h(0)\n",
    "    return circuit.to_instruction()\n",
    "\n",
    "def v0_dag():\n",
    "    circuit = QuantumCircuit(1)\n",
    "    circuit.x(0)\n",
    "    circuit.ry(2 * np.arcsin(np.sqrt(0.05)), 0)\n",
    "    \n",
    "    return circuit.to_instruction()\n",
    "\n",
    "def v1_dag():\n",
    "    circuit = QuantumCircuit(1)\n",
    "    circuit.x(0)\n",
    "    circuit.ry(2 * np.arcsin(np.sqrt(0.05)), 0)\n",
    "    circuit.x(0)\n",
    "    return circuit.to_instruction()\n",
    "\n",
    "def v0_v1_direct_sum_dag():\n",
    "    circuit = QuantumCircuit(2)\n",
    "    circuit.p(-np.pi, 0)\n",
    "    circuit.ry(-2 * np.arcsin(np.sqrt(0.05)), 0)\n",
    "    circuit.cx(0, 1)\n",
    "    return circuit.to_instruction()"
   ]
  },
  {
   "cell_type": "code",
   "execution_count": 10,
   "id": "455e4997",
   "metadata": {
    "ExecuteTime": {
     "end_time": "2024-09-22T16:39:34.852896Z",
     "start_time": "2024-09-22T16:39:34.848146Z"
    }
   },
   "outputs": [],
   "source": [
    "from qiskit_aer import StatevectorSimulator\n",
    "\n",
    "simulator = StatevectorSimulator()"
   ]
  },
  {
   "cell_type": "code",
   "execution_count": 12,
   "id": "b7f6030a",
   "metadata": {
    "ExecuteTime": {
     "start_time": "2024-09-22T16:40:29.653283Z"
    },
    "jupyter": {
     "is_executing": true
    }
   },
   "outputs": [
    {
     "data": {
      "text/plain": [
       "0.2805806425831202"
      ]
     },
     "execution_count": 12,
     "metadata": {},
     "output_type": "execute_result"
    }
   ],
   "source": [
    "postselection_result = benchmark_certification_using_postselection(\n",
    "    backend=simulator,\n",
    "    target=0,\n",
    "    ancilla=1,\n",
    "    state_preparation=state_prep(),\n",
    "    u_dag=u_dag(),\n",
    "    v0_dag=v0_dag(),\n",
    "    v1_dag=v1_dag(),\n",
    "    num_shots_per_measurement=100000\n",
    ")\n",
    "\n",
    "postselection_result"
   ]
  },
  {
   "cell_type": "code",
   "execution_count": 13,
   "id": "bfe0ba4b",
   "metadata": {
    "ExecuteTime": {
     "end_time": "2024-09-22T16:39:34.878072Z",
     "start_time": "2024-09-22T16:39:34.873464Z"
    }
   },
   "outputs": [
    {
     "data": {
      "text/plain": [
       "0.2820550528229661"
      ]
     },
     "execution_count": 13,
     "metadata": {},
     "output_type": "execute_result"
    }
   ],
   "source": [
    "expected = (1/np.sqrt(2) * np.sqrt(0.95) - 1/np.sqrt(2) * np.sqrt(0.05))**2\n",
    "expected"
   ]
  },
  {
   "cell_type": "code",
   "execution_count": 17,
   "id": "99acaa62",
   "metadata": {
    "ExecuteTime": {
     "end_time": "2024-09-22T16:39:35.252597Z",
     "start_time": "2024-09-22T16:39:34.879277Z"
    }
   },
   "outputs": [
    {
     "data": {
      "text/plain": [
       "0.28115"
      ]
     },
     "execution_count": 17,
     "metadata": {},
     "output_type": "execute_result"
    }
   ],
   "source": [
    "direct_sum_result = benchmark_certification_using_direct_sum(\n",
    "    backend=simulator,\n",
    "    target=0,\n",
    "    ancilla=1,\n",
    "    state_preparation=state_prep(),\n",
    "    u_dag=u_dag(),\n",
    "    v0_v1_direct_sum_dag=v0_v1_direct_sum_dag(),\n",
    "    num_shots_per_measurement=100000\n",
    ")\n",
    "\n",
    "direct_sum_result"
   ]
  },
  {
   "cell_type": "code",
   "execution_count": null,
   "id": "91d13ec0-6110-4cfb-a391-d956f217ee81",
   "metadata": {},
   "outputs": [],
   "source": []
  },
  {
   "cell_type": "code",
   "execution_count": 24,
   "id": "a837c34e-b8d7-4df4-9c58-5ba1cf16f8e7",
   "metadata": {},
   "outputs": [
    {
     "name": "stdout",
     "output_type": "stream",
     "text": [
      "Analytical p_succ = 0.2820550528229661\n",
      "Postselection: p_succ = 0.28153273017562536, abs_error =0.0005223226473407561\n",
      "Direct sum: p_succ = 0.28286, abs_error =0.0008049471770338879\n"
     ]
    }
   ],
   "source": [
    "p_succ = expected\n",
    "print(f\"Analytical p_succ = {p_succ}\")\n",
    "print(\n",
    "f\"Postselection: p_succ = {postselection_result}, abs_error ={np.abs(p_succ - postselection_result)}\"\n",
    ")\n",
    "print(f\"Direct sum: p_succ = {direct_sum_result}, abs_error ={np.abs(p_succ - direct_sum_result)}\")"
   ]
  },
  {
   "cell_type": "code",
   "execution_count": 18,
   "id": "ce25f7a4-1533-4252-a932-bbafbea78156",
   "metadata": {},
   "outputs": [],
   "source": [
    "from qbench.schemes.postselection import (\n",
    "assemble_certification_postselection_circuits,\n",
    "compute_probabilities_from_certification_postselection_measurements,\n",
    ")\n",
    "circuits = assemble_certification_postselection_circuits(\n",
    "target=0,\n",
    "ancilla=1,\n",
    "state_preparation=state_prep(),\n",
    "u_dag=u_dag(),\n",
    "v0_dag=v0_dag(),\n",
    "v1_dag=v1_dag(),\n",
    ")"
   ]
  },
  {
   "cell_type": "code",
   "execution_count": 19,
   "id": "9e3f5bba-d2ab-4904-b46b-e6b05bd33b86",
   "metadata": {},
   "outputs": [],
   "source": [
    "from qiskit_aer.noise import NoiseModel, ReadoutError\n",
    "error = ReadoutError([[0.75, 0.25], [0.8, 0.2]])\n",
    "noise_model = NoiseModel()\n",
    "noise_model.add_readout_error(error, [0])\n",
    "noise_model.add_readout_error(error, [1])"
   ]
  },
  {
   "cell_type": "code",
   "execution_count": 24,
   "id": "1a63f475-b565-4983-a947-62f3858731c8",
   "metadata": {},
   "outputs": [],
   "source": [
    "keys_ordering = [\"u_v0\", \"u_v1\"]\n",
    "\n",
    "all_circuits = [circuits[key] for key in keys_ordering]\n",
    "\n",
    "counts_noisy = simulator.run(\n",
    "    all_circuits,\n",
    "    backend=simulator,\n",
    "    noise_model=noise_model,\n",
    "    shots=100000).result().get_counts()\n",
    "\n",
    "counts_noiseless = simulator.run(\n",
    "    all_circuits,\n",
    "    backend=simulator,\n",
    "    shots=100000).result().get_counts()"
   ]
  },
  {
   "cell_type": "code",
   "execution_count": 25,
   "id": "d2f9a183-9d6b-4c07-bb5f-f309f7ad7859",
   "metadata": {},
   "outputs": [],
   "source": [
    "prob_succ_noiseless = compute_probabilities_from_certification_postselection_measurements(\n",
    "    u_v0_counts=counts_noiseless[0],\n",
    "    u_v1_counts=counts_noiseless[1],)\n",
    "\n",
    "prob_succ_noisy = compute_probabilities_from_certification_postselection_measurements(\n",
    "    u_v0_counts=counts_noisy[0],\n",
    "    u_v1_counts=counts_noisy[1],)"
   ]
  },
  {
   "cell_type": "code",
   "execution_count": 26,
   "id": "f949b697-7591-48a9-bcb2-c2c006453064",
   "metadata": {},
   "outputs": [
    {
     "name": "stdout",
     "output_type": "stream",
     "text": [
      "0.2819460844157144\n"
     ]
    }
   ],
   "source": [
    "print(prob_succ_noiseless)"
   ]
  },
  {
   "cell_type": "code",
   "execution_count": 27,
   "id": "145dba65-0497-4643-8dd0-e3af180921eb",
   "metadata": {},
   "outputs": [
    {
     "name": "stdout",
     "output_type": "stream",
     "text": [
      "0.7756271756091706\n"
     ]
    }
   ],
   "source": [
    "print(prob_succ_noisy)"
   ]
  },
  {
   "cell_type": "code",
   "execution_count": null,
   "id": "99b84a73-3c5e-47d3-a8c8-66e27506af21",
   "metadata": {},
   "outputs": [],
   "source": []
  }
 ],
 "metadata": {
  "kernelspec": {
   "display_name": "Python 3 (ipykernel)",
   "language": "python",
   "name": "python3"
  },
  "language_info": {
   "codemirror_mode": {
    "name": "ipython",
    "version": 3
   },
   "file_extension": ".py",
   "mimetype": "text/x-python",
   "name": "python",
   "nbconvert_exporter": "python",
   "pygments_lexer": "ipython3",
   "version": "3.11.9"
  }
 },
 "nbformat": 4,
 "nbformat_minor": 5
}
