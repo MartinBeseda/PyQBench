{
 "cells": [
  {
   "cell_type": "code",
   "id": "ef1f4c7d",
   "metadata": {
    "ExecuteTime": {
     "end_time": "2024-09-22T16:39:34.836276Z",
     "start_time": "2024-09-22T16:39:34.833290Z"
    }
   },
   "source": [
    "from qiskit import QuantumCircuit\n",
    "from qiskit_aer import AerSimulator\n",
    "import numpy as np\n",
    "\n",
    "\n",
    "from qbench.schemes.postselection import benchmark_using_postselection, benchmark_certification_using_postselection\n",
    "from qbench.schemes.direct_sum import benchmark_using_direct_sum, benchmark_certification_using_direct_sum"
   ],
   "outputs": [],
   "execution_count": 41
  },
  {
   "cell_type": "code",
   "id": "0059be26",
   "metadata": {
    "ExecuteTime": {
     "end_time": "2024-09-22T16:39:34.845959Z",
     "start_time": "2024-09-22T16:39:34.838003Z"
    }
   },
   "source": [
    "def state_prep():\n",
    "    circuit = QuantumCircuit(2)\n",
    "    circuit.h(0)\n",
    "    circuit.cx(0, 1)\n",
    "    return circuit.to_instruction()\n",
    "    \n",
    "\n",
    "def u_dag():\n",
    "    circuit = QuantumCircuit(1)\n",
    "    circuit.h(0)\n",
    "    return circuit.to_instruction()\n",
    "\n",
    "def v0_dag():\n",
    "    circuit = QuantumCircuit(1)\n",
    "    circuit.x(0)\n",
    "    circuit.ry(2 * np.arcsin(np.sqrt(0.05)), 0)\n",
    "    \n",
    "    return circuit.to_instruction()\n",
    "\n",
    "def v1_dag():\n",
    "    circuit = QuantumCircuit(1)\n",
    "    circuit.x(0)\n",
    "    circuit.ry(2 * np.arcsin(np.sqrt(0.05)), 0)\n",
    "    circuit.x(0)\n",
    "    return circuit.to_instruction()\n",
    "\n",
    "def v0_v1_direct_sum_dag():\n",
    "    circuit = QuantumCircuit(2)\n",
    "    circuit.p(-np.pi, 0)\n",
    "    circuit.ry(-2 * np.arcsin(np.sqrt(0.05)), 0)\n",
    "    circuit.cx(0, 1)\n",
    "    return circuit.to_instruction()"
   ],
   "outputs": [],
   "execution_count": 42
  },
  {
   "cell_type": "code",
   "id": "455e4997",
   "metadata": {
    "ExecuteTime": {
     "end_time": "2024-09-22T16:39:34.852896Z",
     "start_time": "2024-09-22T16:39:34.848146Z"
    }
   },
   "source": [
    "from qiskit_aer import StatevectorSimulator\n",
    "\n",
    "# simulator = AerSimulator()\n",
    "simulator = StatevectorSimulator()"
   ],
   "outputs": [],
   "execution_count": 43
  },
  {
   "cell_type": "code",
   "id": "b7f6030a",
   "metadata": {
    "jupyter": {
     "is_executing": true
    },
    "ExecuteTime": {
     "start_time": "2024-09-22T16:40:29.653283Z"
    }
   },
   "source": [
    "result = benchmark_certification_using_postselection(\n",
    "    backend=simulator,\n",
    "    target=0,\n",
    "    ancilla=1,\n",
    "    state_preparation=state_prep(),\n",
    "    u_dag=u_dag(),\n",
    "    v0_dag=v0_dag(),\n",
    "    v1_dag=v1_dag(),\n",
    "    num_shots_per_measurement=100000\n",
    ")\n",
    "\n",
    "result"
   ],
   "outputs": [],
   "execution_count": null
  },
  {
   "cell_type": "code",
   "id": "bfe0ba4b",
   "metadata": {
    "ExecuteTime": {
     "end_time": "2024-09-22T16:39:34.878072Z",
     "start_time": "2024-09-22T16:39:34.873464Z"
    }
   },
   "source": [
    "expected = (1/np.sqrt(2) * np.sqrt(0.95) - 1/np.sqrt(2) * np.sqrt(0.05))**2\n",
    "expected"
   ],
   "outputs": [
    {
     "data": {
      "text/plain": [
       "0.2820550528229661"
      ]
     },
     "execution_count": 45,
     "metadata": {},
     "output_type": "execute_result"
    }
   ],
   "execution_count": 45
  },
  {
   "cell_type": "code",
   "id": "99acaa62",
   "metadata": {
    "ExecuteTime": {
     "end_time": "2024-09-22T16:39:35.252597Z",
     "start_time": "2024-09-22T16:39:34.879277Z"
    }
   },
   "source": [
    "result = benchmark_certification_using_direct_sum(\n",
    "    backend=simulator,\n",
    "    target=0,\n",
    "    ancilla=1,\n",
    "    state_preparation=state_prep(),\n",
    "    u_dag=u_dag(),\n",
    "    v0_v1_direct_sum_dag=v0_v1_direct_sum_dag(),\n",
    "    num_shots_per_measurement=100000\n",
    ")\n",
    "\n",
    "result"
   ],
   "outputs": [
    {
     "data": {
      "text/plain": [
       "0.28091"
      ]
     },
     "execution_count": 46,
     "metadata": {},
     "output_type": "execute_result"
    }
   ],
   "execution_count": 46
  }
 ],
 "metadata": {
  "kernelspec": {
   "display_name": "Python 3",
   "language": "python",
   "name": "python3"
  },
  "language_info": {
   "codemirror_mode": {
    "name": "ipython",
    "version": 3
   },
   "file_extension": ".py",
   "mimetype": "text/x-python",
   "name": "python",
   "nbconvert_exporter": "python",
   "pygments_lexer": "ipython3",
   "version": "3.8.3"
  }
 },
 "nbformat": 4,
 "nbformat_minor": 5
}
