{
 "cells": [
  {
   "cell_type": "code",
   "execution_count": 8,
   "id": "901676ea-58e2-495c-89bd-40c7e4e239fb",
   "metadata": {},
   "outputs": [],
   "source": [
    "from qiskit import QuantumCircuit\n",
    "import numpy as np\n",
    "\n",
    "from qbench.schemes.postselection import benchmark_using_postselection\n",
    "from qbench.schemes.direct_sum import benchmark_using_direct_sum"
   ]
  },
  {
   "cell_type": "code",
   "execution_count": 9,
   "id": "70c82def-c313-4968-8999-fd6f562cbb7a",
   "metadata": {},
   "outputs": [],
   "source": [
    "from qiskit_aer import StatevectorSimulator\n",
    "\n",
    "simulator = StatevectorSimulator()"
   ]
  },
  {
   "cell_type": "code",
   "execution_count": 10,
   "id": "e3ce562e-5bb4-4cf3-ab92-e02c4baab7ce",
   "metadata": {},
   "outputs": [],
   "source": [
    "### discrimination experiment for measurement in Hadamard basis using postselection ###\n",
    "\n",
    "def state_prep():\n",
    "    circuit = QuantumCircuit(2)\n",
    "    circuit.h(0)\n",
    "    circuit.cx(0, 1)\n",
    "    return circuit.to_instruction()\n",
    "    \n",
    "\n",
    "def u_dag():\n",
    "    circuit = QuantumCircuit(1)\n",
    "    circuit.h(0)\n",
    "    return circuit.to_instruction()\n",
    "\n",
    "def v0_dag():\n",
    "    circuit = QuantumCircuit(1)\n",
    "    circuit.ry(-np.pi * 3 / 4, 0)\n",
    "    return circuit.to_instruction()\n",
    "    \n",
    "def v1_dag():\n",
    "    circuit = QuantumCircuit(1)\n",
    "    circuit.ry(-np.pi * 3 / 4, 0)\n",
    "    circuit.x(0)\n",
    "    return circuit.to_instruction()\n",
    "    \n",
    "def v0_v1_direct_sum_dag():\n",
    "    circuit = QuantumCircuit(2)\n",
    "    circuit.ry(-np.pi * 3 / 4, 0)\n",
    "    circuit.cnot(0, 1)\n",
    "    return circuit.to_instruction()"
   ]
  },
  {
   "cell_type": "code",
   "execution_count": 11,
   "id": "939f2579-0b6d-4430-8c7e-37aaece4b47a",
   "metadata": {},
   "outputs": [
    {
     "ename": "KeyError",
     "evalue": "'id_v0'",
     "output_type": "error",
     "traceback": [
      "\u001b[0;31m---------------------------------------------------------------------------\u001b[0m",
      "\u001b[0;31mKeyError\u001b[0m                                  Traceback (most recent call last)",
      "Cell \u001b[0;32mIn[11], line 1\u001b[0m\n\u001b[0;32m----> 1\u001b[0m discrmination_postselection_result \u001b[38;5;241m=\u001b[39m \u001b[43mbenchmark_using_postselection\u001b[49m\u001b[43m(\u001b[49m\n\u001b[1;32m      2\u001b[0m \u001b[43m    \u001b[49m\u001b[43mbackend\u001b[49m\u001b[38;5;241;43m=\u001b[39;49m\u001b[43msimulator\u001b[49m\u001b[43m,\u001b[49m\n\u001b[1;32m      3\u001b[0m \u001b[43m    \u001b[49m\u001b[43mtarget\u001b[49m\u001b[38;5;241;43m=\u001b[39;49m\u001b[38;5;241;43m0\u001b[39;49m\u001b[43m,\u001b[49m\n\u001b[1;32m      4\u001b[0m \u001b[43m    \u001b[49m\u001b[43mancilla\u001b[49m\u001b[38;5;241;43m=\u001b[39;49m\u001b[38;5;241;43m1\u001b[39;49m\u001b[43m,\u001b[49m\n\u001b[1;32m      5\u001b[0m \u001b[43m    \u001b[49m\u001b[43mstate_preparation\u001b[49m\u001b[38;5;241;43m=\u001b[39;49m\u001b[43mstate_prep\u001b[49m\u001b[43m(\u001b[49m\u001b[43m)\u001b[49m\u001b[43m,\u001b[49m\n\u001b[1;32m      6\u001b[0m \u001b[43m    \u001b[49m\u001b[43mu_dag\u001b[49m\u001b[38;5;241;43m=\u001b[39;49m\u001b[43mu_dag\u001b[49m\u001b[43m(\u001b[49m\u001b[43m)\u001b[49m\u001b[43m,\u001b[49m\n\u001b[1;32m      7\u001b[0m \u001b[43m    \u001b[49m\u001b[43mv0_dag\u001b[49m\u001b[38;5;241;43m=\u001b[39;49m\u001b[43mv0_dag\u001b[49m\u001b[43m(\u001b[49m\u001b[43m)\u001b[49m\u001b[43m,\u001b[49m\n\u001b[1;32m      8\u001b[0m \u001b[43m    \u001b[49m\u001b[43mv1_dag\u001b[49m\u001b[38;5;241;43m=\u001b[39;49m\u001b[43mv1_dag\u001b[49m\u001b[43m(\u001b[49m\u001b[43m)\u001b[49m\u001b[43m,\u001b[49m\n\u001b[1;32m      9\u001b[0m \u001b[43m    \u001b[49m\u001b[43mnum_shots_per_measurement\u001b[49m\u001b[38;5;241;43m=\u001b[39;49m\u001b[38;5;241;43m10000\u001b[39;49m\u001b[43m,\u001b[49m\u001b[43m)\u001b[49m\n",
      "File \u001b[0;32m~/AAA.OSTRAVA/discrimination-various-methods/PyQBench/qbench/schemes/postselection.py:201\u001b[0m, in \u001b[0;36mbenchmark_using_postselection\u001b[0;34m(backend, target, ancilla, state_preparation, u_dag, v0_dag, v1_dag, num_shots_per_measurement)\u001b[0m\n\u001b[1;32m    186\u001b[0m circuits \u001b[38;5;241m=\u001b[39m assemble_certification_postselection_circuits(\n\u001b[1;32m    187\u001b[0m     state_preparation\u001b[38;5;241m=\u001b[39mstate_preparation,\n\u001b[1;32m    188\u001b[0m     u_dag\u001b[38;5;241m=\u001b[39mu_dag,\n\u001b[0;32m   (...)\u001b[0m\n\u001b[1;32m    192\u001b[0m     ancilla\u001b[38;5;241m=\u001b[39mancilla,\n\u001b[1;32m    193\u001b[0m )\n\u001b[1;32m    195\u001b[0m counts \u001b[38;5;241m=\u001b[39m {\n\u001b[1;32m    196\u001b[0m     key: backend\u001b[38;5;241m.\u001b[39mrun(circuit, shots\u001b[38;5;241m=\u001b[39mnum_shots_per_measurement)\u001b[38;5;241m.\u001b[39mresult()\u001b[38;5;241m.\u001b[39mget_counts()\n\u001b[1;32m    197\u001b[0m     \u001b[38;5;28;01mfor\u001b[39;00m key, circuit \u001b[38;5;129;01min\u001b[39;00m circuits\u001b[38;5;241m.\u001b[39mitems()\n\u001b[1;32m    198\u001b[0m }\n\u001b[1;32m    200\u001b[0m \u001b[38;5;28;01mreturn\u001b[39;00m compute_probabilities_from_postselection_measurements(\n\u001b[0;32m--> 201\u001b[0m     \u001b[43mcounts\u001b[49m\u001b[43m[\u001b[49m\u001b[38;5;124;43m\"\u001b[39;49m\u001b[38;5;124;43mid_v0\u001b[39;49m\u001b[38;5;124;43m\"\u001b[39;49m\u001b[43m]\u001b[49m, counts[\u001b[38;5;124m\"\u001b[39m\u001b[38;5;124mid_v1\u001b[39m\u001b[38;5;124m\"\u001b[39m], counts[\u001b[38;5;124m\"\u001b[39m\u001b[38;5;124mu_v0\u001b[39m\u001b[38;5;124m\"\u001b[39m], counts[\u001b[38;5;124m\"\u001b[39m\u001b[38;5;124mu_v1\u001b[39m\u001b[38;5;124m\"\u001b[39m]\n\u001b[1;32m    202\u001b[0m )\n",
      "\u001b[0;31mKeyError\u001b[0m: 'id_v0'"
     ]
    }
   ],
   "source": [
    "discrmination_postselection_result = benchmark_using_postselection(\n",
    "    backend=simulator,\n",
    "    target=0,\n",
    "    ancilla=1,\n",
    "    state_preparation=state_prep(),\n",
    "    u_dag=u_dag(),\n",
    "    v0_dag=v0_dag(),\n",
    "    v1_dag=v1_dag(),\n",
    "    num_shots_per_measurement=10000,)"
   ]
  },
  {
   "cell_type": "code",
   "execution_count": null,
   "id": "6bfde52e-855a-42b0-95a9-95b40aa41ef5",
   "metadata": {},
   "outputs": [],
   "source": []
  },
  {
   "cell_type": "code",
   "execution_count": null,
   "id": "325d3e88-5b6c-46d4-9dff-58750f159a3a",
   "metadata": {},
   "outputs": [],
   "source": []
  }
 ],
 "metadata": {
  "kernelspec": {
   "display_name": "Python 3 (ipykernel)",
   "language": "python",
   "name": "python3"
  },
  "language_info": {
   "codemirror_mode": {
    "name": "ipython",
    "version": 3
   },
   "file_extension": ".py",
   "mimetype": "text/x-python",
   "name": "python",
   "nbconvert_exporter": "python",
   "pygments_lexer": "ipython3",
   "version": "3.11.9"
  }
 },
 "nbformat": 4,
 "nbformat_minor": 5
}
